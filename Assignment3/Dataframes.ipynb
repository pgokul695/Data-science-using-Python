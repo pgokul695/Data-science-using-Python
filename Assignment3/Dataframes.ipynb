{
  "nbformat": 4,
  "nbformat_minor": 0,
  "metadata": {
    "colab": {
      "provenance": []
    },
    "kernelspec": {
      "name": "python3",
      "display_name": "Python 3"
    },
    "language_info": {
      "name": "python"
    }
  },
  "cells": [
    {
      "cell_type": "code",
      "execution_count": 1,
      "metadata": {
        "id": "mGD_PhDn0bTG"
      },
      "outputs": [],
      "source": [
        "import pandas as pd"
      ]
    },
    {
      "cell_type": "markdown",
      "source": [
        "From a Dictionary"
      ],
      "metadata": {
        "id": "WLp_jTk70e_H"
      }
    },
    {
      "cell_type": "code",
      "source": [
        "data = {\n",
        "    'Name': ['Gokul', 'Athul', 'Govind'],\n",
        "    'Age': [25, 30, 35],\n",
        "    'City': ['aluva','Angamaly', 'Thrissur']\n",
        "}\n",
        "\n",
        "df = pd.DataFrame(data)\n",
        "print(df)"
      ],
      "metadata": {
        "colab": {
          "base_uri": "https://localhost:8080/"
        },
        "id": "-Wp2ToX10i3z",
        "outputId": "0373b676-d680-443c-fb4a-2b8691c5f773"
      },
      "execution_count": 3,
      "outputs": [
        {
          "output_type": "stream",
          "name": "stdout",
          "text": [
            "     Name  Age      City\n",
            "0   Gokul   25     aluva\n",
            "1   Athul   30  Angamaly\n",
            "2  Govind   35  Thrissur\n"
          ]
        }
      ]
    },
    {
      "cell_type": "markdown",
      "source": [
        "From a list of lists"
      ],
      "metadata": {
        "id": "9WnIM8QW1C7p"
      }
    },
    {
      "cell_type": "code",
      "source": [
        "data = [\n",
        "    ['Gokul', 25, 'Aluva'],\n",
        "    ['Athul', 30, 'Angamaly'],\n",
        "    ['Govind', 35, 'Thrissur']\n",
        "]\n",
        "\n",
        "columns = ['Name', 'Age', 'City']\n",
        "\n",
        "df = pd.DataFrame(data, columns=columns)\n",
        "\n",
        "print(df)"
      ],
      "metadata": {
        "colab": {
          "base_uri": "https://localhost:8080/"
        },
        "id": "WuPXXrss1KZe",
        "outputId": "c79cc47b-29fc-4345-ecfb-ced610578ddd"
      },
      "execution_count": 4,
      "outputs": [
        {
          "output_type": "stream",
          "name": "stdout",
          "text": [
            "     Name  Age      City\n",
            "0   Gokul   25     Aluva\n",
            "1   Athul   30  Angamaly\n",
            "2  Govind   35  Thrissur\n"
          ]
        }
      ]
    },
    {
      "cell_type": "markdown",
      "source": [
        "From a CSV file\n"
      ],
      "metadata": {
        "id": "ycvqnuX31Seh"
      }
    },
    {
      "cell_type": "code",
      "source": [
        "df = pd.read_csv('https://corgis-edu.github.io/corgis/datasets/csv/weather/weather.csv')\n",
        "print(df)"
      ],
      "metadata": {
        "colab": {
          "base_uri": "https://localhost:8080/"
        },
        "id": "_hWqtyGd1USm",
        "outputId": "36ee054c-5084-4d67-fc5a-bf8cee544275"
      },
      "execution_count": 5,
      "outputs": [
        {
          "output_type": "stream",
          "name": "stdout",
          "text": [
            "       Data.Precipitation   Date.Full  Date.Month  Date.Week of  Date.Year  \\\n",
            "0                    0.00  2016-01-03           1             3       2016   \n",
            "1                    0.00  2016-01-03           1             3       2016   \n",
            "2                    0.16  2016-01-03           1             3       2016   \n",
            "3                    0.00  2016-01-03           1             3       2016   \n",
            "4                    0.01  2016-01-03           1             3       2016   \n",
            "...                   ...         ...         ...           ...        ...   \n",
            "16738                0.08  2017-01-01           1             1       2017   \n",
            "16739                0.00  2017-01-01           1             1       2017   \n",
            "16740                0.00  2017-01-01           1             1       2017   \n",
            "16741                0.06  2017-01-01           1             1       2017   \n",
            "16742                0.10  2017-01-01           1             1       2017   \n",
            "\n",
            "      Station.City Station.Code Station.Location Station.State  \\\n",
            "0       Birmingham          BHM   Birmingham, AL       Alabama   \n",
            "1       Huntsville          HSV   Huntsville, AL       Alabama   \n",
            "2           Mobile          MOB       Mobile, AL       Alabama   \n",
            "3       Montgomery          MGM   Montgomery, AL       Alabama   \n",
            "4        Anchorage          ANC    Anchorage, AK        Alaska   \n",
            "...            ...          ...              ...           ...   \n",
            "16738       Casper          CPR       Casper, WY       Wyoming   \n",
            "16739     Cheyenne          CYS     Cheyenne, WY       Wyoming   \n",
            "16740       Lander          LND       Lander, WY       Wyoming   \n",
            "16741      Rawlins          RWL      Rawlins, WY       Wyoming   \n",
            "16742     Sheridan          SHR     Sheridan, WY       Wyoming   \n",
            "\n",
            "       Data.Temperature.Avg Temp  Data.Temperature.Max Temp  \\\n",
            "0                             39                         46   \n",
            "1                             39                         47   \n",
            "2                             46                         51   \n",
            "3                             45                         52   \n",
            "4                             34                         38   \n",
            "...                          ...                        ...   \n",
            "16738                         23                         32   \n",
            "16739                         32                         42   \n",
            "16740                         17                         29   \n",
            "16741                         23                         31   \n",
            "16742                         21                         34   \n",
            "\n",
            "       Data.Temperature.Min Temp  Data.Wind.Direction  Data.Wind.Speed  \n",
            "0                             32                   33             4.33  \n",
            "1                             31                   32             3.86  \n",
            "2                             41                   35             9.73  \n",
            "3                             38                   32             6.86  \n",
            "4                             29                   19             7.80  \n",
            "...                          ...                  ...              ...  \n",
            "16738                         15                   23            19.98  \n",
            "16739                         21                   26            15.16  \n",
            "16740                          4                   26             1.65  \n",
            "16741                         13                   24            18.16  \n",
            "16742                          8                   23             7.51  \n",
            "\n",
            "[16743 rows x 14 columns]\n"
          ]
        }
      ]
    }
  ]
}